{
 "cells": [
  {
   "cell_type": "code",
   "execution_count": 1,
   "id": "72931ff1",
   "metadata": {},
   "outputs": [],
   "source": [
    "import pandas as pd"
   ]
  },
  {
   "cell_type": "code",
   "execution_count": 2,
   "id": "eadc7670",
   "metadata": {},
   "outputs": [
    {
     "name": "stdout",
     "output_type": "stream",
     "text": [
      "                                filename  label\n",
      "0  ./dataset/test/test_images/000001.jpg      1\n",
      "1  ./dataset/test/test_images/000002.jpg      1\n",
      "2  ./dataset/test/test_images/000003.jpg      0\n",
      "3  ./dataset/test/test_images/000004.jpg      2\n",
      "4  ./dataset/test/test_images/000005.jpg      2\n"
     ]
    }
   ],
   "source": [
    "# 设置你的 CSV 文件路径\n",
    "file_path = 'submission2newnew.csv'  # 例如 'data/mydata.csv'\n",
    "# 读取 CSV 文件\n",
    "df = pd.read_csv(file_path)\n",
    "# 显示前五行数据\n",
    "print(df.head())"
   ]
  },
  {
   "cell_type": "code",
   "execution_count": 3,
   "id": "714c9985",
   "metadata": {},
   "outputs": [
    {
     "name": "stdout",
     "output_type": "stream",
     "text": [
      "            id  label\n",
      "0   000001.jpg      1\n",
      "1   000002.jpg      1\n",
      "2   000003.jpg      0\n",
      "3   000004.jpg      2\n",
      "4   000005.jpg      2\n",
      "5   000006.jpg      2\n",
      "6   000007.jpg      1\n",
      "7   000008.jpg      0\n",
      "8   000009.jpg      0\n",
      "9   000010.jpg      1\n",
      "10  000011.jpg      0\n",
      "11  000012.jpg      0\n",
      "12  000013.jpg      2\n",
      "13  000014.jpg      2\n",
      "14  000015.jpg      1\n",
      "15  000016.jpg      0\n",
      "16  000017.jpg      0\n",
      "17  000018.jpg      0\n",
      "18  000019.jpg      0\n",
      "19  000020.jpg      1\n"
     ]
    }
   ],
   "source": [
    "# 提取文件名并重命名为 id\n",
    "df['id'] = df['filename'].apply(lambda x: x.split('/')[-1])\n",
    "# 重新排列列顺序\n",
    "df = df[['id', 'label']]\n",
    "# 显示前几行结果\n",
    "print(df.head(20))"
   ]
  },
  {
   "cell_type": "code",
   "execution_count": 4,
   "id": "fc1ed4b6",
   "metadata": {},
   "outputs": [],
   "source": [
    "df.to_csv('processed_2newnew.csv', index=False)"
   ]
  },
  {
   "cell_type": "code",
   "execution_count": null,
   "id": "a27c7082",
   "metadata": {},
   "outputs": [],
   "source": []
  },
  {
   "cell_type": "code",
   "execution_count": null,
   "id": "f2d3edad",
   "metadata": {},
   "outputs": [],
   "source": []
  }
 ],
 "metadata": {
  "kernelspec": {
   "display_name": "base",
   "language": "python",
   "name": "python3"
  },
  "language_info": {
   "codemirror_mode": {
    "name": "ipython",
    "version": 3
   },
   "file_extension": ".py",
   "mimetype": "text/x-python",
   "name": "python",
   "nbconvert_exporter": "python",
   "pygments_lexer": "ipython3",
   "version": "3.11.7"
  }
 },
 "nbformat": 4,
 "nbformat_minor": 5
}
